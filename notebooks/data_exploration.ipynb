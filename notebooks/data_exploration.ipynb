{
 "cells": [
  {
   "cell_type": "code",
   "execution_count": null,
   "id": "3ab15434",
   "metadata": {},
   "outputs": [],
   "source": [
    "## General Imports\n",
    "import pandas as pd\n",
    "import numpy as np\n",
    "from matplotlib import pyplot as plt\n",
    "import seaborn as sn\n",
    "import importlib\n",
    "from moviepy import ImageSequenceClip"
   ]
  },
  {
   "cell_type": "code",
   "execution_count": 138,
   "id": "563b31b5",
   "metadata": {},
   "outputs": [],
   "source": [
    "## System Imports\n",
    "import os\n",
    "import sys\n",
    "from pathlib import Path"
   ]
  },
  {
   "cell_type": "code",
   "execution_count": null,
   "id": "aaccaa96",
   "metadata": {},
   "outputs": [
    {
     "name": "stdout",
     "output_type": "stream",
     "text": [
      "c:\\Users\\Zach\\Projects\\Current\\2025 NFL Big Data Bowl\\notebooks\n",
      "c:\\Users\\Zach\\Projects\\Current\\2025 NFL Big Data Bowl\n"
     ]
    }
   ],
   "source": [
    "## Changing Directory to Root\n",
    "'''\n",
    "print(os.getcwd())\n",
    "\n",
    "parent = os.path.dirname(os.getcwd())\n",
    "os.chdir(parent)\n",
    "\n",
    "print(os.getcwd())\n",
    "'''"
   ]
  },
  {
   "cell_type": "code",
   "execution_count": 141,
   "id": "a3fd7d65",
   "metadata": {},
   "outputs": [],
   "source": [
    "## Modules\n",
    "from src.modules import util, classes"
   ]
  },
  {
   "cell_type": "code",
   "execution_count": 142,
   "id": "60cb4b7f",
   "metadata": {},
   "outputs": [
    {
     "data": {
      "text/plain": [
       "<module 'src.modules.classes' from 'c:\\\\Users\\\\Zach\\\\Projects\\\\Current\\\\2025 NFL Big Data Bowl\\\\src\\\\modules\\\\classes.py'>"
      ]
     },
     "execution_count": 142,
     "metadata": {},
     "output_type": "execute_result"
    }
   ],
   "source": [
    "## Module Reload\n",
    "importlib.reload(util)\n",
    "importlib.reload(classes)"
   ]
  },
  {
   "cell_type": "markdown",
   "id": "9df32d39",
   "metadata": {},
   "source": [
    "#### Data"
   ]
  },
  {
   "cell_type": "code",
   "execution_count": 4,
   "id": "cbaeef48",
   "metadata": {},
   "outputs": [],
   "source": [
    "## Load each dataset\n",
    "games = pd.read_csv(\"data/raw/games.csv\")\n",
    "player_play = pd.read_csv(\"data/raw/player_play.csv\")\n",
    "players = pd.read_csv(\"data/raw/players.csv\")\n",
    "plays = pd.read_csv(\"data/raw/plays.csv\")\n",
    "\n",
    "## Load weekly data\n",
    "week1 = pd.read_csv(\"data/raw/tracking_week_1.csv\")\n",
    "week2 = pd.read_csv(\"data/raw/tracking_week_2.csv\")\n",
    "week3 = pd.read_csv(\"data/raw/tracking_week_3.csv\")\n",
    "week4 = pd.read_csv(\"data/raw/tracking_week_4.csv\")"
   ]
  },
  {
   "cell_type": "code",
   "execution_count": 42,
   "id": "c2435cd5",
   "metadata": {},
   "outputs": [],
   "source": [
    "## Observing Data\n",
    "util.print_to_text('games',games.head().to_string())\n",
    "util.print_to_text('player_play',player_play.head().to_string())\n",
    "util.print_to_text('players',players.head().to_string())\n",
    "util.print_to_text('plays',plays.head().to_string())\n",
    "util.print_to_text('week1',week1.head(10).to_string())"
   ]
  },
  {
   "cell_type": "code",
   "execution_count": 113,
   "id": "d41a8eb5",
   "metadata": {},
   "outputs": [],
   "source": [
    "## Bears week 1 game -- QB plays -- first play\n",
    "gameId = int(games[(games['homeTeamAbbr']=='CHI') & (games['week']==1)].reset_index().loc[:,'gameId'][0])\n",
    "\n",
    "bears_passing_plays = player_play[(player_play['gameId']==id) & (player_play['teamAbbr']=='CHI') & (player_play['hadDropback']==1)].sort_values(by='playId').reset_index().drop('index',axis=1)\n",
    "first_play = bears_passing_plays.loc[0,:]\n",
    "playId = int(first_play['playId'])\n",
    "\n",
    "home_abr = str(games[(games['homeTeamAbbr']=='CHI') & (games['week']==1)].reset_index().loc[:,'homeTeamAbbr'][0])\n",
    "visitor_abr = str(games[(games['homeTeamAbbr']=='CHI') & (games['week']==1)].reset_index().loc[:,'visitorTeamAbbr'][0])\n",
    "\n",
    "## play by play, for first play\n",
    "pbp = week1[(week1['gameId']==id) & (week1['playId']==playId)]\n",
    "pbp_qb = pbp[pbp['nflId']==int(first_play['nflId'])]\n",
    "\n",
    "util.print_to_text('pbp_qb',pbp_qb.to_string())"
   ]
  },
  {
   "cell_type": "markdown",
   "id": "36a6fe09",
   "metadata": {},
   "source": [
    "#### Visualizing Pocket"
   ]
  },
  {
   "cell_type": "code",
   "execution_count": 143,
   "id": "fe486ac9",
   "metadata": {},
   "outputs": [],
   "source": [
    "pbp_coordinate_data = pbp[['gameId','playId','nflId','displayName','club','frameId','x','y']]"
   ]
  },
  {
   "cell_type": "code",
   "execution_count": 145,
   "id": "8d690f4d",
   "metadata": {},
   "outputs": [],
   "source": [
    "play = classes.Play(gameId=gameId,playId=playId,home_abr=home_abr,visitor_abr=visitor_abr)\n",
    "frame_count = np.max(pbp_coordinate_data['frameId'])\n",
    "\n",
    "for f in range(1,frame_count+1):\n",
    "    pbp_frame = pbp_coordinate_data[pbp_coordinate_data['frameId']==f]\n",
    "    frame = classes.Frame(gameId=gameId,playId=playId,frameId=f,home_abr=home_abr,visitor_abr=visitor_abr)\n",
    "    \n",
    "    for row in pbp_frame.itertuples(index=False):\n",
    "        frame.add_moment(name=row.displayName,nflId=row.nflId,club=row.club,frameId=row.frameId,x=row.x,y=row.y)\n",
    "    \n",
    "    play.add_frame(frame)\n",
    "    \n",
    "for frame in play.frames:\n",
    "    frame.to_png()"
   ]
  },
  {
   "cell_type": "code",
   "execution_count": 146,
   "id": "2031dc76",
   "metadata": {},
   "outputs": [
    {
     "name": "stdout",
     "output_type": "stream",
     "text": [
      "MoviePy - Building video debug/frames1.mp4.\n",
      "MoviePy - Writing video debug/frames1.mp4\n",
      "\n"
     ]
    },
    {
     "name": "stderr",
     "output_type": "stream",
     "text": [
      "                                                                        \r"
     ]
    },
    {
     "name": "stdout",
     "output_type": "stream",
     "text": [
      "MoviePy - Done !\n",
      "MoviePy - video ready debug/frames1.mp4\n"
     ]
    }
   ],
   "source": [
    "image_folder = \"debug/frames1/\"\n",
    "image_files = [f\"{image_folder}/{gameId}_{playId}_{str(i)}_field.png\" for i in range(1,frame_count+1)]\n",
    "\n",
    "clip = ImageSequenceClip(image_files, fps=5)\n",
    "clip.write_videofile(\"debug/frames1.mp4\", codec=\"libx264\")"
   ]
  },
  {
   "cell_type": "code",
   "execution_count": 147,
   "id": "75dc0167",
   "metadata": {},
   "outputs": [],
   "source": [
    "os.startfile(Path.cwd() / \"debug\" / \"frames1.mp4\")"
   ]
  },
  {
   "cell_type": "code",
   "execution_count": null,
   "id": "92850729",
   "metadata": {},
   "outputs": [],
   "source": []
  },
  {
   "cell_type": "code",
   "execution_count": null,
   "id": "ee64105d",
   "metadata": {},
   "outputs": [],
   "source": []
  }
 ],
 "metadata": {
  "kernelspec": {
   "display_name": "venv",
   "language": "python",
   "name": "python3"
  },
  "language_info": {
   "codemirror_mode": {
    "name": "ipython",
    "version": 3
   },
   "file_extension": ".py",
   "mimetype": "text/x-python",
   "name": "python",
   "nbconvert_exporter": "python",
   "pygments_lexer": "ipython3",
   "version": "3.13.1"
  }
 },
 "nbformat": 4,
 "nbformat_minor": 5
}
