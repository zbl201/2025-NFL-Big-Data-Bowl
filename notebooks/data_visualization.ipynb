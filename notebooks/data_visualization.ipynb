{
 "cells": [
  {
   "cell_type": "code",
   "execution_count": 10,
   "id": "0a63cb5b",
   "metadata": {},
   "outputs": [],
   "source": [
    "## General Imports\n",
    "import pandas as pd\n",
    "from PIL import Image, ImageEnhance\n",
    "import importlib"
   ]
  },
  {
   "cell_type": "code",
   "execution_count": 3,
   "id": "4016a3b1",
   "metadata": {},
   "outputs": [],
   "source": [
    "## System Imports\n",
    "import os\n",
    "import sys"
   ]
  },
  {
   "cell_type": "code",
   "execution_count": null,
   "id": "f9d76c75",
   "metadata": {},
   "outputs": [
    {
     "name": "stdout",
     "output_type": "stream",
     "text": [
      "c:\\Users\\Zach\\Projects\\Current\\2025 NFL Big Data Bowl\\notebooks\n",
      "c:\\Users\\Zach\\Projects\\Current\\2025 NFL Big Data Bowl\n"
     ]
    }
   ],
   "source": [
    "## Changing Directory to Root\n",
    "'''\n",
    "print(os.getcwd())\n",
    "\n",
    "parent = os.path.dirname(os.getcwd())\n",
    "os.chdir(parent)\n",
    "\n",
    "print(os.getcwd())\n",
    "'''"
   ]
  },
  {
   "cell_type": "code",
   "execution_count": 20,
   "id": "89c38e6a",
   "metadata": {},
   "outputs": [],
   "source": [
    "## Modules\n",
    "from src.modules import classes "
   ]
  },
  {
   "cell_type": "code",
   "execution_count": 27,
   "id": "989e3ebf",
   "metadata": {},
   "outputs": [
    {
     "data": {
      "text/plain": [
       "<module 'src.modules.classes' from 'c:\\\\Users\\\\Zach\\\\Projects\\\\Current\\\\2025 NFL Big Data Bowl\\\\src\\\\modules\\\\classes.py'>"
      ]
     },
     "execution_count": 27,
     "metadata": {},
     "output_type": "execute_result"
    }
   ],
   "source": [
    "## Reload\n",
    "## Module Reload\n",
    "importlib.reload(classes)"
   ]
  },
  {
   "cell_type": "code",
   "execution_count": 6,
   "id": "2492dedd",
   "metadata": {},
   "outputs": [],
   "source": [
    "## gameId 2022091102\n",
    "## playId 107\n",
    "## frameId 1 - 114\n",
    "## nflId 53440\n",
    "## name: Justin Fields"
   ]
  },
  {
   "cell_type": "code",
   "execution_count": 28,
   "id": "57ce9840",
   "metadata": {},
   "outputs": [
    {
     "name": "stdout",
     "output_type": "stream",
     "text": [
      "2022091102_107\n"
     ]
    }
   ],
   "source": [
    "play = classes.Play(2022091102,107)\n",
    "print(play)"
   ]
  },
  {
   "cell_type": "code",
   "execution_count": 31,
   "id": "b1ed4f11",
   "metadata": {},
   "outputs": [
    {
     "name": "stdout",
     "output_type": "stream",
     "text": [
      "2022091102_107_1\n"
     ]
    }
   ],
   "source": [
    "play.add_frame(1)\n",
    "print(play.frames[0])\n",
    "\n",
    "play.frames[0].to_png('frame1')\n",
    "play.frames[0].add_moment(\"Justin Fields\", 53440, 1, 90.29, 23.66)\n",
    "play.frames[0].to_png('frame1_pop')"
   ]
  },
  {
   "cell_type": "code",
   "execution_count": null,
   "id": "1801fba6",
   "metadata": {},
   "outputs": [],
   "source": []
  },
  {
   "cell_type": "code",
   "execution_count": null,
   "id": "56a25112",
   "metadata": {},
   "outputs": [],
   "source": []
  }
 ],
 "metadata": {
  "kernelspec": {
   "display_name": "venv",
   "language": "python",
   "name": "python3"
  },
  "language_info": {
   "codemirror_mode": {
    "name": "ipython",
    "version": 3
   },
   "file_extension": ".py",
   "mimetype": "text/x-python",
   "name": "python",
   "nbconvert_exporter": "python",
   "pygments_lexer": "ipython3",
   "version": "3.13.1"
  }
 },
 "nbformat": 4,
 "nbformat_minor": 5
}
