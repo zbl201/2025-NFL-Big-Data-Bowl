{
 "cells": [
  {
   "cell_type": "code",
   "execution_count": 1,
   "id": "1618d445",
   "metadata": {},
   "outputs": [],
   "source": [
    "## General Imports\n",
    "import pandas as pd\n",
    "import numpy as np\n",
    "from matplotlib import pyplot as plt\n",
    "import seaborn as sn\n",
    "import importlib\n",
    "from moviepy import ImageSequenceClip"
   ]
  },
  {
   "cell_type": "code",
   "execution_count": 2,
   "id": "10dec755",
   "metadata": {},
   "outputs": [],
   "source": [
    "## System Imports\n",
    "import os\n",
    "import sys\n",
    "from pathlib import Path"
   ]
  },
  {
   "cell_type": "code",
   "execution_count": 3,
   "id": "ce614a69",
   "metadata": {},
   "outputs": [
    {
     "data": {
      "text/plain": [
       "'\\nprint(os.getcwd())\\n\\nparent = os.path.dirname(os.getcwd())\\nos.chdir(parent)\\n\\nprint(os.getcwd())\\n'"
      ]
     },
     "execution_count": 3,
     "metadata": {},
     "output_type": "execute_result"
    }
   ],
   "source": [
    "## Changing Directory to Root\n",
    "'''\n",
    "print(os.getcwd())\n",
    "\n",
    "parent = os.path.dirname(os.getcwd())\n",
    "os.chdir(parent)\n",
    "\n",
    "print(os.getcwd())\n",
    "'''"
   ]
  },
  {
   "cell_type": "code",
   "execution_count": null,
   "id": "52d5909e",
   "metadata": {},
   "outputs": [],
   "source": [
    "'''\n",
    "Proof of Concept: Getting a model to recognize the following\n",
    "To research: What type of model to use?\n",
    "\n",
    "-----------------    \n",
    "\n",
    "-----------------\n",
    "  D  |  O  |  B\n",
    "-----------------\n",
    "\n",
    "-----------------\n",
    "\n",
    "= Neutral\n",
    "\n",
    "-----------------    \n",
    "    |  B  |\n",
    "-----------------\n",
    "    |  O  | \n",
    "-----------------\n",
    "  D |\n",
    "-----------------\n",
    "\n",
    "= Good\n",
    "\n",
    "-----------------    \n",
    "    |  D  |  B  \n",
    "-----------------\n",
    "    |  O  | \n",
    "-----------------\n",
    "\n",
    "-----------------\n",
    "\n",
    "= Bad\n",
    "\n",
    "To begin:\n",
    "-> Just ball carrier vs one defender => single layer image\n",
    "-> Sequential Modelling, each timestamp a 3 x 3 array\n",
    "    -> Output per sample is yards gained from ball carrier positon until end of play \n",
    "-> Sequence-to-sequence regression with LSTM/GRU or 1D CNN\n",
    "\n",
    "'''"
   ]
  },
  {
   "cell_type": "code",
   "execution_count": 11,
   "id": "a714248f",
   "metadata": {},
   "outputs": [],
   "source": [
    "example_input = np.array(\n",
    "    [[[ 0, 0, 0],\n",
    "      [-1, 0, 1],\n",
    "      [ 0, 0, 0]],\n",
    "     \n",
    "     [[ 0, 1, 0],\n",
    "      [-1, 0, 0],\n",
    "      [ 0, 0, 0]],\n",
    "     \n",
    "     [[-1, 1, 0],\n",
    "      [ 0, 0, 0],\n",
    "      [ 0, 0, 0]],\n",
    "     \n",
    "     [[-1, 0, 0],\n",
    "      [ 0, 0, 0],\n",
    "      [ 0, 0, 0]]]\n",
    ")\n",
    "\n",
    "example_output = np.array(\n",
    "    [1.5,0.5,0.5,0]\n",
    ").reshape(-1,1)"
   ]
  },
  {
   "cell_type": "code",
   "execution_count": 12,
   "id": "223c5d8a",
   "metadata": {},
   "outputs": [
    {
     "name": "stdout",
     "output_type": "stream",
     "text": [
      "(4, 3, 3)\n",
      "(4, 1)\n"
     ]
    }
   ],
   "source": [
    "print(example_input.shape)\n",
    "print(example_output.shape)"
   ]
  },
  {
   "cell_type": "code",
   "execution_count": 13,
   "id": "9363d3ba",
   "metadata": {},
   "outputs": [],
   "source": [
    "## Create 40 samples in helper file\n",
    "## Create 10 for testing\n",
    "## Fit simple model"
   ]
  },
  {
   "cell_type": "code",
   "execution_count": null,
   "id": "258704f4",
   "metadata": {},
   "outputs": [],
   "source": []
  },
  {
   "cell_type": "code",
   "execution_count": null,
   "id": "03657015",
   "metadata": {},
   "outputs": [],
   "source": []
  },
  {
   "cell_type": "code",
   "execution_count": null,
   "id": "6862f9d4",
   "metadata": {},
   "outputs": [],
   "source": []
  },
  {
   "cell_type": "code",
   "execution_count": null,
   "id": "2373248a",
   "metadata": {},
   "outputs": [],
   "source": []
  },
  {
   "cell_type": "code",
   "execution_count": null,
   "id": "cd6a776e",
   "metadata": {},
   "outputs": [],
   "source": []
  },
  {
   "cell_type": "code",
   "execution_count": null,
   "id": "acdabc21",
   "metadata": {},
   "outputs": [],
   "source": []
  },
  {
   "cell_type": "code",
   "execution_count": null,
   "metadata": {},
   "outputs": [],
   "source": []
  },
  {
   "cell_type": "code",
   "execution_count": null,
   "id": "7d4217f4",
   "metadata": {},
   "outputs": [],
   "source": []
  },
  {
   "cell_type": "code",
   "execution_count": null,
   "id": "6d3bb4c5",
   "metadata": {},
   "outputs": [],
   "source": []
  },
  {
   "cell_type": "code",
   "execution_count": null,
   "id": "cc523071",
   "metadata": {},
   "outputs": [],
   "source": []
  },
  {
   "cell_type": "code",
   "execution_count": null,
   "id": "dd8f53b1",
   "metadata": {},
   "outputs": [],
   "source": []
  },
  {
   "cell_type": "code",
   "execution_count": null,
   "id": "39382e71",
   "metadata": {},
   "outputs": [],
   "source": []
  },
  {
   "cell_type": "code",
   "execution_count": null,
   "id": "467d1781",
   "metadata": {},
   "outputs": [],
   "source": []
  },
  {
   "cell_type": "code",
   "execution_count": null,
   "id": "3eb58acb",
   "metadata": {},
   "outputs": [],
   "source": []
  },
  {
   "cell_type": "code",
   "execution_count": null,
   "id": "e05119d1",
   "metadata": {},
   "outputs": [],
   "source": []
  },
  {
   "cell_type": "code",
   "execution_count": null,
   "id": "4cb96dd8",
   "metadata": {},
   "outputs": [],
   "source": []
  },
  {
   "cell_type": "code",
   "execution_count": null,
   "id": "fa638a9b",
   "metadata": {},
   "outputs": [],
   "source": []
  },
  {
   "cell_type": "code",
   "execution_count": null,
   "id": "d86f179f",
   "metadata": {},
   "outputs": [],
   "source": []
  },
  {
   "cell_type": "code",
   "execution_count": null,
   "id": "dfd78ff3",
   "metadata": {},
   "outputs": [],
   "source": []
  },
  {
   "cell_type": "code",
   "execution_count": null,
   "id": "1a3f09b5",
   "metadata": {},
   "outputs": [],
   "source": []
  }
 ],
 "metadata": {
  "kernelspec": {
   "display_name": "venv",
   "language": "python",
   "name": "python3"
  },
  "language_info": {
   "codemirror_mode": {
    "name": "ipython",
    "version": 3
   },
   "file_extension": ".py",
   "mimetype": "text/x-python",
   "name": "python",
   "nbconvert_exporter": "python",
   "pygments_lexer": "ipython3",
   "version": "3.13.1"
  }
 },
 "nbformat": 4,
 "nbformat_minor": 5
}
